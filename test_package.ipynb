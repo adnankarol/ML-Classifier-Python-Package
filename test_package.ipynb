{
 "cells": [
  {
   "attachments": {},
   "cell_type": "markdown",
   "metadata": {},
   "source": [
    "# Notebook to Test the Classifier-Agent Package"
   ]
  },
  {
   "attachments": {},
   "cell_type": "markdown",
   "metadata": {},
   "source": [
    "## Import Dependencies"
   ]
  },
  {
   "cell_type": "code",
   "execution_count": null,
   "metadata": {},
   "outputs": [],
   "source": [
    "from classifierAgent import classifierAgent\n",
    "import pandas as pd\n",
    "from sklearn.datasets import make_classification\n",
    "from termcolor import colored\n",
    "import os"
   ]
  },
  {
   "attachments": {},
   "cell_type": "markdown",
   "metadata": {},
   "source": [
    "## Test The Package"
   ]
  },
  {
   "cell_type": "code",
   "execution_count": null,
   "metadata": {},
   "outputs": [],
   "source": [
    "# Generate synthetic dataset for testing\n",
    "X, y = make_classification(n_samples=1000, n_features=20, n_classes=2, random_state=42)\n",
    "synthetic_df = pd.DataFrame(X, columns=[f'feature_{i}' for i in range(X.shape[1])])\n",
    "synthetic_df['target'] = y\n",
    "\n",
    "# Test the classifier_agent function with the synthetic dataset\n",
    "output_column = 'target'\n",
    "train_test_ratio = 0.25\n",
    "scaling_method = 'minmax'  # Choose 'minmax' or 'normalize'\n",
    "perform_grid_search = True  # Whether to perform grid search\n",
    "save_models = True  # Whether to save models\n",
    "show_confusion_matrix = True  # Whether to plot the confusion matrix\n",
    "show_classification_report = True  # Whether to print the classification report\n",
    "\n",
    "try:\n",
    "    results = classifierAgent(synthetic_df, output_column, train_test_ratio, scaling_method, perform_grid_search, save_models, show_confusion_matrix, show_classification_report)\n",
    "    print(colored(results, \"cyan\"))\n",
    "except Exception as e:\n",
    "    print(colored(f\"An error occurred: {e}\", \"red\"))"
   ]
  },
  {
   "cell_type": "code",
   "execution_count": null,
   "metadata": {},
   "outputs": [],
   "source": [
    "results.head(10)"
   ]
  },
  {
   "attachments": {},
   "cell_type": "markdown",
   "metadata": {},
   "source": [
    "## Delete Unwanted Files or Folders"
   ]
  },
  {
   "cell_type": "code",
   "execution_count": null,
   "metadata": {},
   "outputs": [],
   "source": [
    "root = \"./\"\n",
    "for path, subdirs, files in os.walk(root):\n",
    "    for name in files:\n",
    "        file_path = os.path.join(path, name)\n",
    "        try:\n",
    "            if \"__pycache__\" in file_path or \".ipynb_checkpoints\" in file_path or \".DS_Store\" in file_path:\n",
    "                print(f\"Deleting file: {file_path}\")\n",
    "                os.remove(file_path)\n",
    "        except Exception as e:\n",
    "            print(f\"Error deleting {file_path}: {e}\")\n",
    "print(\"Cleanup completed.\")"
   ]
  }
 ],
 "metadata": {
  "kernelspec": {
   "display_name": "package",
   "language": "python",
   "name": "python3"
  },
  "language_info": {
   "codemirror_mode": {
    "name": "ipython",
    "version": 3
   },
   "file_extension": ".py",
   "mimetype": "text/x-python",
   "name": "python",
   "nbconvert_exporter": "python",
   "pygments_lexer": "ipython3",
   "version": "3.10.14"
  },
  "orig_nbformat": 4
 },
 "nbformat": 4,
 "nbformat_minor": 2
}
